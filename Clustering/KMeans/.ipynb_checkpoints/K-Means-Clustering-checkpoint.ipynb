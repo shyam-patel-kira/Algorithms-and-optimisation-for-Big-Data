{
 "cells": [
  {
   "cell_type": "markdown",
   "metadata": {},
   "source": [
    "## K Means Clustering\n",
    "#### The K is a hyperparameter here, which denotes number of clusters.\n",
    "#### It's a centroid based clustering scheme.\n",
    "\n",
    "## Steps\n",
    "#### 1. Initially, assume K points from data and assign them as centroids.\n",
    "#### 2. For a particular data point, calculate the distance of point with each centroid.\n",
    "#### 3. Assign the point to cluster having mininum distance.\n",
    "#### 4. Once, all are assigned, recalculate the centroids\n",
    "#### New Centroids = Sum of all points / Number of Points (in that cluster) (They may not belong to data).\n",
    "#### 5. Repeat until convergence. (This can be adjusted).\n",
    "#### 6. At the end, we get the final K centroids belonging to the data."
   ]
  },
  {
   "cell_type": "code",
   "execution_count": 12,
   "metadata": {},
   "outputs": [],
   "source": [
    "# Imports\n",
    "\n",
    "import pandas as pd\n",
    "import numpy as np\n",
    "import random\n",
    "import math\n",
    "import sys\n",
    "import matplotlib.pyplot as plt\n",
    "from pprint import pprint\n",
    "import seaborn as sns\n",
    "from scipy.spatial import distance\n",
    "from sklearn.datasets import (make_blobs,make_circles,make_moons)\n",
    "from sklearn.cluster import KMeans, SpectralClustering\n",
    "from sklearn.preprocessing import StandardScaler\n",
    "%matplotlib inline"
   ]
  },
  {
   "cell_type": "markdown",
   "metadata": {},
   "source": [
    "### Dataset\n",
    "#### Here we have considered the Old Faithful dataset, which contains details of eruption duration and waiting time in between eruptions of the Old Faithful Geyser."
   ]
  },
  {
   "cell_type": "code",
   "execution_count": 13,
   "metadata": {},
   "outputs": [
    {
     "data": {
      "image/png": "[encoded data removed]",
      "text/plain": [
       "<Figure size 432x432 with 1 Axes>"
      ]
     },
     "metadata": {
      "needs_background": "light"
     },
     "output_type": "display_data"
    }
   ],
   "source": [
    "'''\n",
    "    Reading the dataset and exploiting it's features to get rough idea about the clusters.\n",
    "    Here we are trying to cluster the samples according to it's features.\n",
    "    Also, we need to standardize the data before applying K Means on it.\n",
    "'''\n",
    "\n",
    "# Reading the data\n",
    "data = pd.read_csv('../Dataset/faithful.csv')\n",
    "data = data.iloc[:,1:]\n",
    "\n",
    "# Standardizing the data\n",
    "data_std = StandardScaler().fit_transform(data)\n",
    "data_std = pd.DataFrame(data_std)\n",
    "plt.figure(figsize=(6, 6))\n",
    "plt.scatter(data_std.iloc[:, 0], data_std.iloc[:, 1])\n",
    "plt.xlabel('Eruption time in mins', fontsize=15)\n",
    "plt.ylabel('Waiting time to next eruption', fontsize=15)\n",
    "plt.title('Visualization of raw data', fontsize=15);"
   ]
  },
  {
   "cell_type": "markdown",
   "metadata": {},
   "source": [
    "#### From the following visualization, we can see that there are 2 clusters.\n",
    "#### The main concern is to seperate the border samples.\n",
    "\n",
    "### Hence, we define a class with all the functionalities for K Means Clustering"
   ]
  },
  {
   "cell_type": "code",
   "execution_count": 14,
   "metadata": {},
   "outputs": [],
   "source": [
    "# Defining function to get set of empty list of given size\n",
    "def init_list_of_objects(size):\n",
    "    list_of_objects = list()\n",
    "    for i in range(0,size):\n",
    "        list_of_objects.append( list() ) #different object reference each time\n",
    "    return list_of_objects"
   ]
  },
  {
   "cell_type": "code",
   "execution_count": 15,
   "metadata": {},
   "outputs": [],
   "source": [
    "class KMeansClustering:\n",
    "    \n",
    "    def __init__(self, K):\n",
    "        self.k = K\n",
    "        self.centroids = [None]*self.k\n",
    "        self.datapoints = init_list_of_objects(self.k)\n",
    "        \n",
    "    # Initializing the random centroid\n",
    "    def initializeCentroids(self, new_centroids):\n",
    "        self.centroids = new_centroids\n",
    "        \n",
    "    # Reinitializing the assigned points\n",
    "    def reinitialize(self):\n",
    "        self.datapoints = init_list_of_objects(self.k)\n",
    "    \n",
    "    # Calculate distance between 2 points\n",
    "    def calculateDistance(self, a, b):\n",
    "        dx = (a[0]-b[0])**2\n",
    "        dy = (a[1]-b[1])**2\n",
    "        d = dx.values + dy.values\n",
    "        return float(np.sqrt(d))\n",
    "\n",
    "    # Calculate nearest cluster and add point into that according to minimum distance\n",
    "    def calculateNearestCluster(self, point):\n",
    "        min_k = -1\n",
    "        min_dist = sys.float_info.max\n",
    "        for i in range(len(self.centroids)):\n",
    "            temp = self.calculateDistance(self.centroids[i], point)\n",
    "            if temp < min_dist:\n",
    "                min_dist = temp\n",
    "                min_k = i\n",
    "        \n",
    "        self.datapoints[min_k].append(point)\n",
    "        \n",
    "    # Calculate the new values of centroids according to the assigned data\n",
    "    def calculateNewCentroids(self):\n",
    "        new_centroids = []\n",
    "        for i in range(len(self.centroids)):\n",
    "            length = len(self.datapoints[i])            \n",
    "            sum_x = 0\n",
    "            sum_y = 0\n",
    "            for j in self.datapoints[i]:\n",
    "                sum_x = sum_x + j[0]\n",
    "                sum_y = sum_y + j[1]\n",
    "            \n",
    "            #t1 = np.sum(self.datapoints[i], 0)\n",
    "            x = sum_x/length\n",
    "            y = sum_y/length\n",
    "            temp = []\n",
    "            temp.append(x)\n",
    "            temp.append(y)\n",
    "            new_centroids.append(temp)\n",
    "            \n",
    "        return new_centroids\n",
    "    \n",
    "    def calculateError(self, new_centroids):\n",
    "        dist = []\n",
    "        \n",
    "        for i in range(len(self.centroids)):\n",
    "            dist.append(self.calculateDistance(self.centroids[i], new_centroids[i]))\n",
    "            \n",
    "        error = sum(dist)\n",
    "        return error"
   ]
  },
  {
   "cell_type": "code",
   "execution_count": 20,
   "metadata": {},
   "outputs": [
    {
     "name": "stdout",
     "output_type": "stream",
     "text": [
      "Initial Random Centroids: [[0    0.566342\n",
      "Name: 80, dtype: float64, 1    0.302355\n",
      "Name: 80, dtype: float64], [0   -0.969728\n",
      "Name: 210, dtype: float64, 1    0.007586\n",
      "Name: 210, dtype: float64]]\n",
      "ITERATION: 1\n",
      "Error:  1.6311666406138996\n",
      "ITERATION: 2\n",
      "Error:  0.022316159626310096\n",
      "ITERATION: 3\n",
      "Error:  0.021821017721071416\n",
      "ITERATION: 4\n",
      "Error:  0.0\n",
      "Error is below 10^-5\n",
      "Converged after 4 iterations\n"
     ]
    },
    {
     "data": {
      "image/png": "[encoded data removed]",
      "text/plain": [
       "<Figure size 720x648 with 1 Axes>"
      ]
     },
     "metadata": {
      "needs_background": "light"
     },
     "output_type": "display_data"
    }
   ],
   "source": [
    "# Defining K\n",
    "K = 2\n",
    "\n",
    "# Instantating the class with value of K\n",
    "clustering = KMeansClustering(K)\n",
    "\n",
    "# Generating K random index to pick\n",
    "random_index = random.sample(range(0, data_std.shape[0]+1), K)\n",
    "\n",
    "# Obtain the K random data points\n",
    "random_centroids = []\n",
    "for i in range(len(random_index)):\n",
    "    t = []\n",
    "    x = data_std.iloc[random_index[i], [0]]\n",
    "    y = data_std.iloc[random_index[i], [1]]\n",
    "    t.append(x)\n",
    "    t.append(y)\n",
    "    random_centroids.append(t)\n",
    "\n",
    "# Initializing the class object Centroid\n",
    "print(\"Initial Random Centroids:\", random_centroids)\n",
    "clustering.initializeCentroids(random_centroids)\n",
    "\n",
    "# defining maximum iterations\n",
    "max_iter = 20\n",
    "\n",
    "# Iterating 10 times (Just assumption, can be any number of times)\n",
    "for iterations in range(0, max_iter):\n",
    "    if iterations!=0:\n",
    "        # Update the centroids\n",
    "        clustering.centroids = new_centroids.copy()\n",
    "        \n",
    "    clustering.reinitialize()\n",
    "    print(\"ITERATION:\", iterations+1)\n",
    "    \n",
    "    # ITerate through each data point\n",
    "    for i in range(data_std.shape[0]):\n",
    "        x = data_std.iloc[i, [0]]\n",
    "        y = data_std.iloc[i, [1]]\n",
    "        point = []\n",
    "        point.append(x)\n",
    "        point.append(y)\n",
    "        clustering.calculateNearestCluster(point)\n",
    "    \n",
    "    # Calculate the new centroids\n",
    "    new_centroids = clustering.calculateNewCentroids()\n",
    "    #print(\"Updated Centroids:\", new_centroids)\n",
    "    error = clustering.calculateError(new_centroids)\n",
    "    print(\"Error: \", error)\n",
    "    \n",
    "    if error < 0.00001:\n",
    "        print(\"Error is below 10^-5\")\n",
    "        print(\"Converged after\", iterations+1, \"iterations\")\n",
    "        break\n",
    "        \n",
    "    if ((iterations+1)==max_iter):\n",
    "        print(\"Converged after\", max_iter, \"iterations\")\n",
    "\n",
    "\n",
    "colors = ['r', 'g', 'b', 'k', 'm']\n",
    "fig, ax = plt.subplots(figsize=(10, 9))\n",
    "\n",
    "# Iterating through K for plotting the K Clusters\n",
    "for i in range(K):\n",
    "    # Plotting the centroid\n",
    "    ax.scatter(new_centroids[i][0], new_centroids[i][1], marker='*', s=200, c='#050505')\n",
    "    \n",
    "    # Plotting each data point belonging to that cluster\n",
    "    for j in range(len(clustering.datapoints[i])):\n",
    "        ax.scatter(clustering.datapoints[i][j][0], clustering.datapoints[i][j][1], s=7, c=colors[i])"
   ]
  },
  {
   "cell_type": "code",
   "execution_count": null,
   "metadata": {},
   "outputs": [],
   "source": []
  }
 ],
 "metadata": {
  "kernelspec": {
   "display_name": "Python 3",
   "language": "python",
   "name": "python3"
  },
  "language_info": {
   "codemirror_mode": {
    "name": "ipython",
    "version": 3
   },
   "file_extension": ".py",
   "mimetype": "text/x-python",
   "name": "python",
   "nbconvert_exporter": "python",
   "pygments_lexer": "ipython3",
   "version": "3.6.9"
  }
 },
 "nbformat": 4,
 "nbformat_minor": 4
}
