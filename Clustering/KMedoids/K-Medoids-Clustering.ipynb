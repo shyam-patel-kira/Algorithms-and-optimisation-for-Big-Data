{
 "cells": [
  {
   "cell_type": "markdown",
   "metadata": {},
   "source": [
    "## K Medoids Clustering\n",
    "#### The K is a hyperparameter here, which denotes number of clusters.\n",
    "#### It's a medoid based clustering scheme.\n",
    "#### It aims at minimizing the dissimilarities between object in same cluster.\n",
    "\n",
    "## Steps\n",
    "#### 1. Initially, assume K points from data and assign them as medoids.\n",
    "#### 2. For a particular data point, calculate the distance of point with each medoid.\n",
    "#### 3. Assign the point to cluster having mininum distance.\n",
    "#### 4. Once, all are assigned, recalculate the medoids.\n",
    "#### New Medoids = Median of all those points belonging to a particular cluster\n",
    "#### 5. Repeat until convergence. (This can be adjusted).\n",
    "#### 6. At the end, we get the final K Medoids depicting K Clusters belonging to the data."
   ]
  },
  {
   "cell_type": "code",
   "execution_count": 6,
   "metadata": {},
   "outputs": [],
   "source": [
    "# Imports\n",
    "\n",
    "import pandas as pd\n",
    "import numpy as np\n",
    "import random\n",
    "import math\n",
    "import sys\n",
    "import matplotlib.pyplot as plt\n",
    "from pprint import pprint\n",
    "import seaborn as sns\n",
    "from scipy.spatial import distance\n",
    "from sklearn.datasets import (make_blobs,make_circles,make_moons)\n",
    "from sklearn.cluster import KMeans, SpectralClustering\n",
    "from sklearn.preprocessing import StandardScaler\n",
    "%matplotlib inline"
   ]
  },
  {
   "cell_type": "markdown",
   "metadata": {},
   "source": [
    "### Dataset\n",
    "#### Here we have considered the Old Faithful dataset, which contains details of eruption duration and waiting time in between eruptions of the Old Faithful Geyser."
   ]
  },
  {
   "cell_type": "code",
   "execution_count": 100,
   "metadata": {},
   "outputs": [
    {
     "data": {
      "image/png": "[encoded data removed]",
      "text/plain": [
       "<Figure size 432x432 with 1 Axes>"
      ]
     },
     "metadata": {
      "needs_background": "light"
     },
     "output_type": "display_data"
    }
   ],
   "source": [
    "'''\n",
    "    Reading the dataset and exploiting it's features to get rough idea about the clusters.\n",
    "    Here we are trying to cluster the samples according to it's features.\n",
    "    Also, we need to standardize the data before applying K Medoids on it.\n",
    "'''\n",
    "\n",
    "# Reading the data\n",
    "data = pd.read_csv('../Dataset/faithful.csv')\n",
    "data = data.iloc[:,1:]\n",
    "\n",
    "# Standardizing the data\n",
    "data_std = StandardScaler().fit_transform(data)\n",
    "data_std = pd.DataFrame(data_std)\n",
    "plt.figure(figsize=(6, 6))\n",
    "plt.scatter(data_std.iloc[:, 0], data_std.iloc[:, 1])\n",
    "plt.xlabel('Eruption time in mins', fontsize=15)\n",
    "plt.ylabel('Waiting time to next eruption', fontsize=15)\n",
    "plt.title('Visualization of raw data', fontsize=15);\n",
    "\n",
    "data_std = data_std.to_numpy()\n",
    "\n",
    "# print(type(data))\n",
    "# data = data.to_numpy()\n",
    "# print(data[0])"
   ]
  },
  {
   "cell_type": "markdown",
   "metadata": {},
   "source": [
    "#### From the following visualization, we can see that there are 2 clusters.\n",
    "#### The main concern is to seperate the border samples.\n",
    "\n",
    "### Hence, we define a class with all the functionalities for K Medoids Clustering"
   ]
  },
  {
   "cell_type": "code",
   "execution_count": 74,
   "metadata": {},
   "outputs": [],
   "source": [
    "# Defining function to get set of empty list of given size\n",
    "def init_list_of_objects(size):\n",
    "    list_of_objects = list()\n",
    "    for i in range(0,size):\n",
    "        list_of_objects.append( list() ) #different object reference each time\n",
    "    return list_of_objects"
   ]
  },
  {
   "cell_type": "code",
   "execution_count": 94,
   "metadata": {},
   "outputs": [],
   "source": [
    "class KMedoidsClustering:\n",
    "    \n",
    "    def __init__(self, K):\n",
    "        self.k = K\n",
    "        self.medoids = [None]*self.k\n",
    "        self.datapoints = init_list_of_objects(self.k)\n",
    "        \n",
    "    # Initializing the random medoids\n",
    "    def initializeMedoids(self, new_medoids):\n",
    "        self.medoids = new_medoids\n",
    "        \n",
    "    # Reinitializing the assigned points\n",
    "    def reinitialize(self):\n",
    "        self.datapoints = init_list_of_objects(self.k)\n",
    "    \n",
    "    # Calculate distance between 2 points\n",
    "    def calculateDistance(self, a, b):\n",
    "        dx = (a[0]-b[0])**2\n",
    "        dy = (a[1]-b[1])**2\n",
    "        d = dx + dy\n",
    "        return float(np.sqrt(d))\n",
    "\n",
    "    # Calculate nearest cluster and add point into that according to minimum distance\n",
    "    def calculateNearestCluster(self, point):\n",
    "        min_k = -1\n",
    "        min_dist = sys.float_info.max\n",
    "        for i in range(len(self.medoids)):\n",
    "            temp = self.calculateDistance(self.medoids[i], point)\n",
    "            if temp < min_dist:\n",
    "                min_dist = temp\n",
    "                min_k = i\n",
    "        \n",
    "        self.datapoints[min_k].append(point)\n",
    "        \n",
    "    # Calculate the new values of medoids according to the assigned data\n",
    "    def calculateNewMedoids(self):\n",
    "        new_medoids = []\n",
    "        for i in range(len(self.medoids)):\n",
    "            median = np.median(self.datapoints[i], axis = 0)\n",
    "            new_medoids.append(median)\n",
    "            \n",
    "        return new_medoids\n",
    "    \n",
    "    def calculateError(self, new_medoids):\n",
    "        dist = []\n",
    "        \n",
    "        for i in range(len(self.medoids)):\n",
    "            dist.append(self.calculateDistance(self.medoids[i], new_medoids[i]))\n",
    "            \n",
    "        error = sum(dist)\n",
    "        return error"
   ]
  },
  {
   "cell_type": "code",
   "execution_count": 98,
   "metadata": {},
   "outputs": [
    {
     "name": "stdout",
     "output_type": "stream",
     "text": [
      "random index: [129, 143]\n",
      "Initial Random Medoids: [array([1.02014068, 1.40773747]), array([1.16672562, 0.44973907])]\n",
      "ITERATION: 1\n",
      "Error:  1.4343087355974333\n",
      "ITERATION: 2\n",
      "Error:  1.8600933696336226\n",
      "ITERATION: 3\n",
      "Error:  0.6047212223198952\n",
      "ITERATION: 4\n",
      "Error:  0.022382730091938363\n",
      "ITERATION: 5\n",
      "Error:  0.0\n",
      "Error is below 10^-5\n",
      "Converged after 5 iterations\n"
     ]
    },
    {
     "data": {
      "image/png": "[encoded data removed]",
      "text/plain": [
       "<Figure size 720x648 with 1 Axes>"
      ]
     },
     "metadata": {
      "needs_background": "light"
     },
     "output_type": "display_data"
    }
   ],
   "source": [
    "# Defining K\n",
    "K = 2\n",
    "\n",
    "# Instantating the class with value of K\n",
    "clustering = KMedoidsClustering(K)\n",
    "\n",
    "# Generating K random index to pick\n",
    "random_index = random.sample(range(0, data_std.shape[0]+1), K)\n",
    "print(\"random index:\", random_index)\n",
    "\n",
    "# Obtain the K random data points\n",
    "random_medoids = []\n",
    "for i in range(len(random_index)):\n",
    "    t = data_std[random_index[i]]\n",
    "    random_medoids.append(t)\n",
    "\n",
    "# Initializing the class object medoids\n",
    "print(\"Initial Random Medoids:\", random_medoids)\n",
    "clustering.initializeMedoids(random_medoids)\n",
    "\n",
    "# defining maximum iterations\n",
    "max_iter = 20\n",
    "\n",
    "# Iterating 10 times (Just assumption, can be any number of times)\n",
    "for iterations in range(0, max_iter):\n",
    "    if iterations!=0:\n",
    "        # Update the medoids\n",
    "        clustering.medoids = new_medoids.copy()\n",
    "        \n",
    "    clustering.reinitialize()\n",
    "    print(\"ITERATION:\", iterations+1)\n",
    "    \n",
    "    # ITerate through each data point\n",
    "    for i in range(data_std.shape[0]):\n",
    "        point = data_std[i]\n",
    "        clustering.calculateNearestCluster(point)\n",
    "    \n",
    "    # Calculate the new centroids\n",
    "    new_medoids = clustering.calculateNewMedoids()\n",
    "    error = clustering.calculateError(new_medoids)\n",
    "    print(\"Error: \", error)\n",
    "    \n",
    "    if error < 0.00001:\n",
    "        print(\"Error is below 10^-5\")\n",
    "        print(\"Converged after\", iterations+1, \"iterations\")\n",
    "        break\n",
    "        \n",
    "    if ((iterations+1)==max_iter):\n",
    "        print(\"Converged after\", max_iter, \"iterations\")\n",
    "    \n",
    "\n",
    "colors = ['r', 'g', 'b', 'k', 'm']\n",
    "fig, ax = plt.subplots(figsize=(10, 9))\n",
    "\n",
    "# Iterating through K for plotting the K Clusters\n",
    "for i in range(K):\n",
    "    # Plotting the medoids\n",
    "    ax.scatter(new_medoids[i][0], new_medoids[i][1], marker='*', s=200, c='#050505')\n",
    "    \n",
    "    # Plotting each data point belonging to that cluster\n",
    "    for j in range(len(clustering.datapoints[i])):\n",
    "        ax.scatter(clustering.datapoints[i][j][0], clustering.datapoints[i][j][1], s=7, c=colors[i])"
   ]
  }
 ],
 "metadata": {
  "kernelspec": {
   "display_name": "Python 3",
   "language": "python",
   "name": "python3"
  },
  "language_info": {
   "codemirror_mode": {
    "name": "ipython",
    "version": 3
   },
   "file_extension": ".py",
   "mimetype": "text/x-python",
   "name": "python",
   "nbconvert_exporter": "python",
   "pygments_lexer": "ipython3",
   "version": "3.6.9"
  }
 },
 "nbformat": 4,
 "nbformat_minor": 4
}
