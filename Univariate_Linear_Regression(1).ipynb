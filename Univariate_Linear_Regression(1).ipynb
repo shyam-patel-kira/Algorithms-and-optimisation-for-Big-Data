{
  "nbformat": 4,
  "nbformat_minor": 0,
  "metadata": {
    "colab": {
      "name": "Univariate_Linear_Regression(1).ipynb",
      "provenance": []
    },
    "kernelspec": {
      "name": "python3",
      "display_name": "Python 3"
    }
  },
  "cells": [
    {
      "cell_type": "code",
      "metadata": {
        "id": "OEggUIrfYQjq",
        "colab_type": "code",
        "colab": {}
      },
      "source": [
        "#import packages\n",
        "import matplotlib.pyplot as plt\n",
        "from numpy import *\n"
      ],
      "execution_count": 0,
      "outputs": []
    },
    {
      "cell_type": "markdown",
      "metadata": {
        "id": "qp4w5WtcYcbl",
        "colab_type": "text"
      },
      "source": [
        "![alt text](https://www.dropbox.com/s/o8pdg32oybtc84x/hypothesis%20function.png?raw=1 \"hypothesis function\")\n"
      ]
    },
    {
      "cell_type": "code",
      "metadata": {
        "id": "QQKIU48oYtWK",
        "colab_type": "code",
        "colab": {}
      },
      "source": [
        "# draws a line and plots scatter points on a graph given theta values and points\n",
        "def plot_line_on_graph(theta, points):\n",
        "    x_plots = []\n",
        "    y_plots = []\n",
        "    for i in range(0, len(points)):\n",
        "        x = points[i, 0]\n",
        "        y = theta[0] * x + theta[1]\n",
        "        x_plots.append(x)\n",
        "        y_plots.append(y)\n",
        "    plt.scatter(points[:,0], points[:, 1])\n",
        "    plt.plot(x_plots, y_plots)\n",
        "    plt.show()"
      ],
      "execution_count": 0,
      "outputs": []
    },
    {
      "cell_type": "code",
      "metadata": {
        "id": "75WmKJllYtzM",
        "colab_type": "code",
        "colab": {}
      },
      "source": [
        " # given theta values and points, returns the mean squared error of the hypothesis - actual y values\n",
        " def computer_error_for_line_given_points(theta, points):\n",
        "    totalError = 0\n",
        "    for i in range(0, len(points)):\n",
        "        x = points[i, 0] \n",
        "        y = points[i, 1]\n",
        "        # y = mx + b\n",
        "        totalError += (y - (theta[0] * x + theta[1])) ** 2\n",
        "    return totalError / float(len(points))"
      ],
      "execution_count": 0,
      "outputs": []
    },
    {
      "cell_type": "code",
      "metadata": {
        "id": "9rTPCwRRYuHO",
        "colab_type": "code",
        "colab": {}
      },
      "source": [
        "# calculates the partial derivative of theta 0 and 1 and returns updated theta values given a learning rate\n",
        "def gradient_descent(t0_current, t1_current, points, learning_rate):\n",
        "    t0_gradient = 0\n",
        "    t1_gradient = 0\n",
        "    N = float(len(points))\n",
        "    for i in range(0, len(points)):\n",
        "        x = points[i, 0]\n",
        "        y = points[i, 1]\n",
        "        t1_gradient += -(2/N) * (y - ((t0_current * x) + t1_current))\n",
        "        t0_gradient += -(2/N) * x * (y - ((t0_current * x) + t1_current))\n",
        "    new_t0 = t0_current - (learning_rate * t0_gradient)\n",
        "    new_t1 = t1_current - (learning_rate * t1_gradient)\n",
        "    return [new_t0, new_t1]"
      ],
      "execution_count": 0,
      "outputs": []
    },
    {
      "cell_type": "markdown",
      "metadata": {
        "id": "1xcpoa6xi9TY",
        "colab_type": "text"
      },
      "source": [
        "![alt text](https://www.dropbox.com/s/flraujue6t3qe6r/mean%20squared%20error%20function.png?raw=1 \"mean squared error function\")\n"
      ]
    },
    {
      "cell_type": "code",
      "metadata": {
        "id": "BUiFAuYDghKV",
        "colab_type": "code",
        "colab": {}
      },
      "source": [
        "# runs the gradient descent algorithm on a data set to find optimal theta values\n",
        "def gradient_descent_runner(points, theta, learning_rate, num_iterations):\n",
        "    iterations_count = 0\n",
        "    for i in range(num_iterations):\n",
        "        iterations_count += 1\n",
        "        theta_0_old = theta[0]\n",
        "        theta_1_old = theta[1]\n",
        "        \n",
        "        # update theta values\n",
        "        theta[0], theta[1] = gradient_descent(theta[0], theta[1], array(points), learning_rate)\n",
        "        plt.scatter(iterations_count, abs(theta[0] - theta_0_old) + abs(theta[1] - theta_1_old), c='r')\n",
        "\n",
        "        # check to see if we have converged (rate of change is less than learning rate)\n",
        "        if abs(theta[0] - theta_0_old) < learning_rate and abs(theta[1] - theta_1_old) < learning_rate:\n",
        "            break\n",
        "    print('Converged! Completed {0} iterations'.format(iterations_count))\n",
        "    plt.show()\n",
        "    return [theta[0], theta[1]]"
      ],
      "execution_count": 0,
      "outputs": []
    },
    {
      "cell_type": "markdown",
      "metadata": {
        "id": "I6QF7G1yjY1P",
        "colab_type": "text"
      },
      "source": [
        "![alt text](https://www.dropbox.com/s/bf1vfapy6ra4hgv/gradient%20descent%20graph.png?raw=1 \"gradient descent graph\")\n",
        "\n",
        "What the graph is showing is the error values given different values of one of our parameters (say theta 0). The job of gradient descent is to work out the direction and amount we need to change the parameter in order to get it to the minimum error value (global cost minimum). To do this, gradient descent uses this algorithm:\n",
        "\n",
        "![alt text](https://www.dropbox.com/s/0elysnmrut0ldc6/gradient%20descent.png?raw=1 \"gradient descent algorithm\")\n",
        "\n",
        "What this is saying is given an original theta value, we calculate a new one by taking the old value and minus a value calculated using a learning rate * gradient. We do this for each theta value *simultaneously*. Now this part I find very hard to understand (given my lack of calculus experience), but we calculate the gradient using this formula:\n",
        "\n",
        "![alt text](https://www.dropbox.com/s/9vcwzdwfisqig09/linear_regression_gradient.png?raw=1 \"linear regression gradient algorithm\")\n"
      ]
    },
    {
      "cell_type": "code",
      "metadata": {
        "id": "yGjk1Z10ghXC",
        "colab_type": "code",
        "colab": {}
      },
      "source": [
        "def run():\n",
        "    #import data from file\n",
        "    points = genfromtxt(\"ww2data500.csv\", delimiter=\",\", skip_header=True)\n",
        "\n",
        "    #hyperparameters\n",
        "    learning_rate = 0.0001\n",
        "    num_iterations = 1000\n",
        "\n",
        "    #starting theta values\n",
        "    theta = ones(2)\n",
        "\n",
        "    starting_error = computer_error_for_line_given_points(theta, points)\n",
        "    print('The starting values are: theta0 is {0}, theta1 is {1}, the error is {2}'.format(theta[0], theta[1], starting_error))\n",
        "    plot_line_on_graph(theta, points)\n",
        "\n",
        "    # run gradient descent to find and return optimal theta values\n",
        "    [theta[0], theta[1]] = gradient_descent_runner(points, theta, learning_rate, num_iterations)\n",
        "\n",
        "    end_error = computer_error_for_line_given_points(theta, points)\n",
        "    plot_line_on_graph(theta, points)\n",
        "    print('The end values are: theta0 is {0}, theta1 is {1}, the error is {2}'.format(float(theta[0]), float(theta[1]), end_error))"
      ],
      "execution_count": 0,
      "outputs": []
    },
    {
      "cell_type": "markdown",
      "metadata": {
        "id": "L-W49mX4jXeJ",
        "colab_type": "text"
      },
      "source": [
        "Gradient descent is done iteratively using small steps. We nudge the theta values in the right direction until we reach convergence (the global minimum). It is important we don't take too large steps otherwise we might overshoot the global minimum:\n",
        "\n",
        "![alt text](https://www.dropbox.com/s/252wdvpf36e710e/learning%20rate%20examples.png?raw=1 \"learning rate\")\n",
        "\n",
        "Conversely, we shouldn't set it too small otherwise it would take far too many iterations to reach our ideal values.\n"
      ]
    },
    {
      "cell_type": "code",
      "metadata": {
        "id": "5dxaXpKkg-IQ",
        "colab_type": "code",
        "colab": {
          "base_uri": "https://localhost:8080/",
          "height": 812
        },
        "outputId": "9bef9151-4200-48d2-f7e4-7a1870532aaa"
      },
      "source": [
        "if __name__ == \"__main__\":\n",
        "    run()"
      ],
      "execution_count": 9,
      "outputs": [
        {
          "output_type": "stream",
          "text": [
            "The starting values are: theta0 is 1.0, theta1 is 1.0, the error is 48.82082684152009\n"
          ],
          "name": "stdout"
        },
        {
          "output_type": "display_data",
          "data": {
            "image/png": "[encoded data removed]",
            "text/plain": [
              "<Figure size 432x288 with 1 Axes>"
            ]
          },
          "metadata": {
            "tags": []
          }
        },
        {
          "output_type": "stream",
          "text": [
            "Converged! Completed 58 iterations\n"
          ],
          "name": "stdout"
        },
        {
          "output_type": "display_data",
          "data": {
            "image/png": "[encoded data removed]",
            "text/plain": [
              "<Figure size 432x288 with 1 Axes>"
            ]
          },
          "metadata": {
            "tags": []
          }
        },
        {
          "output_type": "display_data",
          "data": {
            "image/png": "[encoded data removed]",
            "text/plain": [
              "<Figure size 432x288 with 1 Axes>"
            ]
          },
          "metadata": {
            "tags": []
          }
        },
        {
          "output_type": "stream",
          "text": [
            "The end values are: theta0 is 1.3001428110403537, theta1 is 1.0140900947961065, the error is 5.314553331093175\n"
          ],
          "name": "stdout"
        }
      ]
    }
  ]
}