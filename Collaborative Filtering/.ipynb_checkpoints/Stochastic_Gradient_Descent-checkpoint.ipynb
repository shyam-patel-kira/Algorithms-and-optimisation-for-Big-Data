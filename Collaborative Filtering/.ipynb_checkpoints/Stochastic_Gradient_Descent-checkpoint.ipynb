{
 "cells": [
  {
   "cell_type": "code",
   "execution_count": 43,
   "metadata": {},
   "outputs": [],
   "source": [
    "#Importing Libraries\n",
    "\n",
    "from sklearn import metrics\n",
    "import pandas as pd\n",
    "import numpy as np\n",
    "from pprint import pprint\n",
    "from sklearn.datasets import load_boston\n",
    "from numpy.linalg import inv, pinv, LinAlgError"
   ]
  },
  {
   "cell_type": "code",
   "execution_count": 44,
   "metadata": {},
   "outputs": [],
   "source": [
    "# Generating Random Data\n",
    "n=25 # Number of Users\n",
    "m=25 # Number of Items\n",
    "\n",
    "R = np.zeros((n,m))\n",
    "for i in range(n):\n",
    "    for j in range(m):\n",
    "        R[i][j] = np.random.choice(np.arange(0,11), p=[0.5,0.0,0.05,0.05,0.05,0.05,0.05,0.05,0.1,0.05,0.05])\n",
    "        \n",
    "# pprint(R)"
   ]
  },
  {
   "cell_type": "code",
   "execution_count": 45,
   "metadata": {},
   "outputs": [],
   "source": [
    "# Initializing U and V\n",
    "k = 5 # Weights of items\n",
    "U = np.zeros((k,n))\n",
    "V = np.zeros((k,m))\n",
    "\n",
    "for i in range(k):\n",
    "    for j in range(n):\n",
    "        U[i][j] = np.random.choice(np.arange(0,11))\n",
    "\n",
    "for i in range(k):\n",
    "    for j in range(m):\n",
    "        V[i][j] = np.random.choice(np.arange(0,11))\n",
    "\n",
    "# pprint(U)\n",
    "# pprint(V)"
   ]
  },
  {
   "cell_type": "markdown",
   "metadata": {},
   "source": [
    "### Following Steps have been followed\n",
    "\n",
    "<img src=\"Images/SGD.png\">"
   ]
  },
  {
   "cell_type": "code",
   "execution_count": 46,
   "metadata": {},
   "outputs": [
    {
     "name": "stdout",
     "output_type": "stream",
     "text": [
      "MAE Before:  126.73280000000001\n",
      "MSE Before:  18683.52\n",
      "MAE After:  2.921934721980331\n",
      "MSE After:  12.457949814566541\n"
     ]
    }
   ],
   "source": [
    "# Applying Stochastic Gradient Descent\n",
    "\n",
    "reg = 0.1 # Penalty Parameter for regularization\n",
    "step_size = 0.001 # Step Size\n",
    "\n",
    "# For Random Selection\n",
    "seti = []\n",
    "setj = []\n",
    "for i in range(0,25):\n",
    "    seti.append(i)\n",
    "    setj.append(i)\n",
    "        \n",
    "# Printing the Error Before starting the algo\n",
    "utv_before = np.dot(U.T, V)\n",
    "print(\"MAE Before: \", metrics.mean_absolute_error(R, utv_before))\n",
    "print(\"MSE Before: \", metrics.mean_squared_error(R, utv_before))\n",
    "\n",
    "for itr in range(0,10):\n",
    "    \n",
    "    # generating random i and j\n",
    "    np.random.shuffle(seti)\n",
    "    np.random.shuffle(setj)\n",
    "    \n",
    "    for i in range(0,25):\n",
    "        for j in range(0,25):\n",
    "\n",
    "            ui = U[:,seti[i]]\n",
    "            vj = V[:,setj[j]]\n",
    "            val = np.dot(ui.T, vj)            # uiT . vj\n",
    "            val = val - R[seti[i]][setj[j]]   # (uiT . vj)-Rij \n",
    "\n",
    "            vj1 = val*vj                      # ((uiT . vj)-Rij)*vj\n",
    "            ui1 = (reg/m)*ui                  # lambda/m * ui\n",
    "\n",
    "            temp1 = vj1 + ui1                 # ((uiT . vj)-Rij)*vj + lambda/m * ui\n",
    "            ui_temp = (2*step_size)*temp1     # 2 * StepSize * (((uiT . vj)-Rij)*vj + lambda/m * ui)\n",
    "\n",
    "            ui2 = val*ui                      # ((uiT . vj)-Rij)*ui\n",
    "            vj2 = (reg/n)*vj                  # lambda/m * vj\n",
    "\n",
    "            temp2 = ui2 + vj2                 # ((uiT . vj)-Rij)*ui + lambda/m * vj\n",
    "            vj_temp = (2*step_size)*temp2     # 2 * StepSize * (((uiT . vj)-Rij)*vj + lambda/m * ui)\n",
    "\n",
    "            U[:,seti[i]] = ui - ui_temp       # Update ui\n",
    "            V[:,setj[j]] = vj - vj_temp       # Update vj\n",
    "    \n",
    "\n",
    "\n",
    "# Printing the Error After Completions of all iterations\n",
    "utv_after = np.dot(U.T, V)\n",
    "print(\"MAE After: \", metrics.mean_absolute_error(R, utv_after))\n",
    "print(\"MSE After: \", metrics.mean_squared_error(R, utv_after))    "
   ]
  }
 ],
 "metadata": {
  "kernelspec": {
   "display_name": "Python 3",
   "language": "python",
   "name": "python3"
  },
  "language_info": {
   "codemirror_mode": {
    "name": "ipython",
    "version": 3
   },
   "file_extension": ".py",
   "mimetype": "text/x-python",
   "name": "python",
   "nbconvert_exporter": "python",
   "pygments_lexer": "ipython3",
   "version": "3.6.9"
  }
 },
 "nbformat": 4,
 "nbformat_minor": 4
}
