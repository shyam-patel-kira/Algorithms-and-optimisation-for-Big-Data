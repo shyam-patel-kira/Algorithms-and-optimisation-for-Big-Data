{
 "cells": [
  {
   "cell_type": "code",
   "execution_count": 1,
   "metadata": {},
   "outputs": [],
   "source": [
    "#Importing Libraries\n",
    "\n",
    "from sklearn import metrics\n",
    "import pandas as pd\n",
    "import numpy as np\n",
    "from pprint import pprint\n",
    "from sklearn.datasets import load_boston\n",
    "from numpy.linalg import inv, pinv, LinAlgError"
   ]
  },
  {
   "cell_type": "code",
   "execution_count": 15,
   "metadata": {},
   "outputs": [],
   "source": [
    "# Generating Random Data\n",
    "n=25 # Number of Users\n",
    "m=25 # Number of Items\n",
    "\n",
    "R = np.zeros((n,m))\n",
    "for i in range(n):\n",
    "    for j in range(m):\n",
    "        R[i][j] = np.random.choice(np.arange(0,11), p=[0.5,0.0,0.05,0.05,0.05,0.05,0.05,0.05,0.1,0.05,0.05])\n",
    "        \n",
    "# pprint(R)"
   ]
  },
  {
   "cell_type": "code",
   "execution_count": 20,
   "metadata": {},
   "outputs": [],
   "source": [
    "# Initializing U and V\n",
    "k = 5 # Weights of items\n",
    "U = np.zeros((k,n))\n",
    "V = np.zeros((k,m))\n",
    "\n",
    "for i in range(k):\n",
    "    for j in range(n):\n",
    "        U[i][j] = np.random.choice(np.arange(0,11))\n",
    "\n",
    "for i in range(k):\n",
    "    for j in range(m):\n",
    "        V[i][j] = np.random.choice(np.arange(0,11))\n",
    "\n",
    "# pprint(U)\n",
    "# pprint(V)"
   ]
  },
  {
   "cell_type": "code",
   "execution_count": 35,
   "metadata": {},
   "outputs": [
    {
     "name": "stdout",
     "output_type": "stream",
     "text": [
      "MAE Before:  120.52458118791529\n",
      "MSE Before:  17822.78472236644\n",
      "MAE After:  2.859123005419812\n",
      "MSE After:  12.69210985748753\n"
     ]
    }
   ],
   "source": [
    "# Applying Stochastic Gradient Descent\n",
    "\n",
    "reg = 0.1 # Penalty Parameter for regularization\n",
    "step_size = 0.001 # Step Size\n",
    "\n",
    "# For Random Selection\n",
    "seti = []\n",
    "setj = []\n",
    "for i in range(0,25):\n",
    "    seti.append(i)\n",
    "    setj.append(i)\n",
    "        \n",
    "# Printing the Error Before starting the algo\n",
    "utv_before = np.dot(U.T, V)\n",
    "print(\"MAE Before: \", metrics.mean_absolute_error(R, utv_before))\n",
    "print(\"MSE Before: \", metrics.mean_squared_error(R, utv_before))\n",
    "\n",
    "for itr in range(0,10):\n",
    "    \n",
    "    np.random.shuffle(seti)\n",
    "    np.random.shuffle(setj)\n",
    "    \n",
    "    for i in range(0,25):\n",
    "        for j in range(0,25):\n",
    "\n",
    "            ui = U[:,seti[i]]\n",
    "            vj = V[:,setj[j]]\n",
    "            val = np.dot(ui.T, vj)\n",
    "            val = val - R[seti[i]][setj[j]]\n",
    "\n",
    "            vj1 = val*vj\n",
    "            ui1 = (reg/m)*ui\n",
    "\n",
    "            temp1 = vj1 + ui1\n",
    "            ui_temp = (2*step_size)*temp1\n",
    "\n",
    "            ui2 = val*ui\n",
    "            vj2 = (reg/n)*vj\n",
    "\n",
    "            temp2 = ui2 + vj2\n",
    "            vj_temp = (2*step_size)*temp2\n",
    "\n",
    "            U[:,seti[i]] = ui - ui_temp\n",
    "            V[:,setj[j]] = vj - vj_temp\n",
    "    \n",
    "\n",
    "\n",
    "# Printing the Error After Completions of all iterations\n",
    "utv_after = np.dot(U.T, V)\n",
    "print(\"MAE After: \", metrics.mean_absolute_error(R, utv_after))\n",
    "print(\"MSE After: \", metrics.mean_squared_error(R, utv_after))    "
   ]
  }
 ],
 "metadata": {
  "kernelspec": {
   "display_name": "Python 3",
   "language": "python",
   "name": "python3"
  },
  "language_info": {
   "codemirror_mode": {
    "name": "ipython",
    "version": 3
   },
   "file_extension": ".py",
   "mimetype": "text/x-python",
   "name": "python",
   "nbconvert_exporter": "python",
   "pygments_lexer": "ipython3",
   "version": "3.6.9"
  }
 },
 "nbformat": 4,
 "nbformat_minor": 4
}
