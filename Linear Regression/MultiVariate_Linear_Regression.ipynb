{
 "cells": [
  {
   "cell_type": "code",
   "execution_count": 1,
   "metadata": {
    "colab": {},
    "colab_type": "code",
    "id": "nqDPRwbYmmhA"
   },
   "outputs": [],
   "source": [
    "#import Packages\n",
    "import numpy as np\n",
    "import pandas as pd\n",
    "import matplotlib.pyplot as plt\n",
    "from mpl_toolkits.mplot3d import Axes3D"
   ]
  },
  {
   "cell_type": "markdown",
   "metadata": {
    "colab_type": "text",
    "id": "YVlASvvE3bbZ"
   },
   "source": [
    "### Hypothesis Function\n",
    "\n",
    "It doesn't require too much to change compared to Simple Linear Regression.\n",
    "\n",
    "![alt text](https://www.dropbox.com/s/t733qinzqspjtgm/mvlr_hypothesisfunction.png?raw=1 \"Hypothesis Function\")\n",
    "\n",
    "To calculate this efficiently, we can use matrix multiplication which is used in Linear Algebra. Using this method our hypothesis function looks like this:\n",
    "\n",
    "![alt text](https://www.dropbox.com/s/t3gwa7358r130uw/mvlr_matrixhypothesis.png?raw=1 \"Matrix hypothesis\")\n",
    "\n",
    "To do this succesfully, we have to match our two matricies in size so that we can perform matrix multiplication. We acheive this by setting our first feature value ![alt text](http://www.sciweavers.org/tex2img.php?eq=x_%7B0%7D%5E%7Bi%7D%20%3D%201&bc=White&fc=Black&im=jpg&fs=12&ff=arev&edit=0 \"x0 feature setting\"). To explain more simply, the amount of columns in our training matrix must match the amount of rows in our theta vector."
   ]
  },
  {
   "cell_type": "markdown",
   "metadata": {
    "colab_type": "text",
    "id": "AVAOSXss3mOX"
   },
   "source": [
    "### Cost Function\n",
    "\n",
    "The cost function remains similar to the one used in simple linear regression althogh an updated one using matrix operations looks like this:\n",
    "\n",
    "![alt text](https://www.dropbox.com/s/gxqeu7kemtcjvpk/costfunction.png?raw=1 \"vectorized cost function\")\n"
   ]
  },
  {
   "cell_type": "code",
   "execution_count": 2,
   "metadata": {
    "colab": {},
    "colab_type": "code",
    "id": "FFCQoQGythYY"
   },
   "outputs": [],
   "source": [
    "#Cost Function\n",
    "def cost_function(X, y, theta):\n",
    "    m = y.size\n",
    "    error = np.dot(X, theta.T) - y\n",
    "    cost = 1/(2*m) * np.dot(error.T, error)\n",
    "    return cost, error"
   ]
  },
  {
   "cell_type": "markdown",
   "metadata": {
    "colab_type": "text",
    "id": "zHcxXNB64Qgp"
   },
   "source": [
    "#### Gradient Descent\n",
    "\n",
    "For gradient descent to work with multiple features, we have to do the same as in simple linear regression and update our theta values simultaneously over the amount of iterations and using the learning rate we supply. \n",
    "\n",
    "![alt text](https://www.dropbox.com/s/y6hjxzqenxz68ud/mvlrgradientdescent.png?raw=1 \"gradient descent\")\n"
   ]
  },
  {
   "cell_type": "code",
   "execution_count": 3,
   "metadata": {
    "colab": {},
    "colab_type": "code",
    "id": "PP3xc7oTthel"
   },
   "outputs": [],
   "source": [
    "#Gradient Descent\n",
    "def gradient_descent(X, y, theta, alpha, iters):\n",
    "    cost_array = np.zeros(iters)\n",
    "    m = y.size\n",
    "    for i in range(iters):\n",
    "        cost, error = cost_function(X, y, theta)\n",
    "        theta = theta - (alpha * (1/m) * np.dot(X.T, error))\n",
    "        cost_array[i] = cost\n",
    "    return theta, cost_array"
   ]
  },
  {
   "cell_type": "markdown",
   "metadata": {
    "colab_type": "text",
    "id": "e-3fyl9b4iEK"
   },
   "source": [
    "#### A note on Feature Normalization\n",
    "\n",
    "When working with multiple feature variables it will speed up gradient descent signicantly if they all are within a small range. We can achieve this using feature normalization. While there are a few ways to acheive this, a common used method uses the following method:\n",
    "\n",
    "![alt text](https://www.dropbox.com/s/m2ylrpsz94ex51e/featurenormalization.png?raw=1 'feature normalization')\n",
    "\n",
    "(The feature minus the mean of all the feature variables divided by the standard deviation)\n"
   ]
  },
  {
   "cell_type": "code",
   "execution_count": 4,
   "metadata": {
    "colab": {},
    "colab_type": "code",
    "id": "WxJnb_J-thxJ"
   },
   "outputs": [],
   "source": [
    "#Plot\n",
    "def plotChart(iterations, cost_num):\n",
    "    fig, ax = plt.subplots()\n",
    "    ax.plot(np.arange(iterations), cost_num, 'r')\n",
    "    ax.set_xlabel('Iterations')\n",
    "    ax.set_ylabel('Cost')\n",
    "    ax.set_title('Error vs Iterations')\n",
    "    plt.style.use('fivethirtyeight')\n",
    "    plt.show()"
   ]
  },
  {
   "cell_type": "code",
   "execution_count": 6,
   "metadata": {
    "colab": {},
    "colab_type": "code",
    "id": "qx4FqZ4GthcC"
   },
   "outputs": [],
   "source": [
    "def run():\n",
    "    # Import data\n",
    "    data = pd.read_csv('boston.csv')\n",
    "\n",
    "    # Extract data into X and y\n",
    "    X = data[['1', '2' , '3' , '4', '5' , '6' , '7', '8' , '9' , '10', '11' , '12' , '13' ]]\n",
    "    y = data['14']\n",
    "\n",
    "    # Normalize our features\n",
    "    X = (X - X.mean()) / X.std()\n",
    "\n",
    "    # Add a 1 column to the start to allow vectorized gradient descent\n",
    "    X = np.c_[np.ones(X.shape[0]), X] \n",
    "\n",
    "    # Set hyperparameters\n",
    "    alpha = 0.01\n",
    "    iterations = 1000\n",
    "\n",
    "    # Initialize Theta Values to 0\n",
    "    theta = np.zeros(X.shape[1])\n",
    "    initial_cost, _ = cost_function(X, y, theta)\n",
    "\n",
    "    print('With initial theta values of {0}, cost error is {1}'.format(theta, initial_cost))\n",
    "\n",
    "    # Run Gradient Descent\n",
    "    theta, cost_num = gradient_descent(X, y, theta, alpha, iterations)\n",
    "\n",
    "    # Display cost chart\n",
    "    plotChart(iterations, cost_num)\n",
    "\n",
    "    final_cost, _ = cost_function(X, y, theta)\n",
    "\n",
    "    print('With final theta values of {0}, cost error is {1}'.format(theta, final_cost))"
   ]
  },
  {
   "cell_type": "code",
   "execution_count": 7,
   "metadata": {
    "colab": {
     "base_uri": "https://localhost:8080/",
     "height": 393
    },
    "colab_type": "code",
    "id": "tDhRZ7i-tz-P",
    "outputId": "73f3b5dc-ffac-4d7a-b479-1e36699da4a9"
   },
   "outputs": [
    {
     "name": "stdout",
     "output_type": "stream",
     "text": [
      "With initial theta values of [0. 0. 0. 0. 0. 0. 0. 0. 0. 0. 0. 0. 0. 0.], cost error is 296.07345849802374\n"
     ]
    },
    {
     "data": {
      "image/png": "[encoded data removed]",
      "text/plain": [
       "<Figure size 432x288 with 1 Axes>"
      ]
     },
     "metadata": {
      "needs_background": "light"
     },
     "output_type": "display_data"
    },
    {
     "name": "stdout",
     "output_type": "stream",
     "text": [
      "With final theta values of [22.53183355 -0.78149212  0.81211965 -0.27384797  0.74337708 -1.57713604\n",
      "  2.89292113 -0.1038205  -2.7437528   1.45960806 -0.88266668 -1.95383999\n",
      "  0.87320162 -3.6460385 ], cost error is 11.082708804710093\n"
     ]
    }
   ],
   "source": [
    "#To run\n",
    "if __name__ == \"__main__\":\n",
    "    run()"
   ]
  }
 ],
 "metadata": {
  "colab": {
   "name": "MultiVariate_Linear_Regression.ipynb",
   "provenance": [],
   "toc_visible": true
  },
  "kernelspec": {
   "display_name": "Python 3",
   "language": "python",
   "name": "python3"
  },
  "language_info": {
   "codemirror_mode": {
    "name": "ipython",
    "version": 3
   },
   "file_extension": ".py",
   "mimetype": "text/x-python",
   "name": "python",
   "nbconvert_exporter": "python",
   "pygments_lexer": "ipython3",
   "version": "3.6.9"
  }
 },
 "nbformat": 4,
 "nbformat_minor": 1
}
